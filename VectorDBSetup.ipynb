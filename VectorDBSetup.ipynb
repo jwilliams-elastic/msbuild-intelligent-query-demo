{
  "cells": [
    {
      "cell_type": "markdown",
      "metadata": {
        "id": "Cl2LilHSwHsi"
      },
      "source": [
        "\n",
        "# Objective\n",
        "This notebook demonstrates how to setup Elasticsearch as a vector database (VectorDB) to support LLM functions that can provide an intelligent query layer.\n",
        "\n",
        "\n",
        "- **Elasticsearch as the VectorDB**: Acts as the core search engine, storing and retrieving dense vector embeddings efficiently.\n",
        "- **Search Templates**: Marry index capabilities to query parameters, enabling dynamic query generation and structured search execution.\n",
        "\n",
        "This combination enables a more sophisticated search experience, leveraging both structured and unstructured data retrieval methods.\n"
      ]
    },
    {
      "cell_type": "markdown",
      "metadata": {
        "id": "PVLHU06SCNTB"
      },
      "source": [
        "## Elasticsearch Setup\n",
        "\n",
        "You will need an Elasticsearch instance that has an **enterprise** plan entitlement to complete this walk thru. This walk thru was built and tested on Elastic Serverless and Elastic Cloud Hosted 9.0.0 on Azure.\n",
        "\n",
        "- Details on how to create a new Elastic serverless project can be found [here](https://www.elastic.co/docs/solutions/search/serverless-elasticsearch-get-started#elasticsearch-get-started-create-project)\n",
        "\n",
        "- Details on how to create an API key can be found [here](https://www.elastic.co/docs/solutions/search/search-connection-details#create-an-api-key-cloud-self-managed)\n"
      ]
    },
    {
      "cell_type": "markdown",
      "metadata": {
        "id": "4lgQ6WlGFeK6"
      },
      "source": [
        "## Install libraries"
      ]
    },
    {
      "cell_type": "code",
      "execution_count": null,
      "metadata": {
        "id": "kply8eYngIAL"
      },
      "outputs": [],
      "source": [
        "%pip install elasticsearch python-dotenv tqdm ipywidgets"
      ]
    },
    {
      "cell_type": "markdown",
      "metadata": {},
      "source": [
        "# Define imports and load environment variables\n",
        "\n",
        "### Elastic + Azure\n",
        "```\n",
        "ELASTIC_URL\n",
        "ELASTIC_API_KEY\n",
        "```\n",
        "\n",
        "Need to be set in `.env` file.\n",
        "\n",
        "**Details on each secret is defined in** [part 1](https://github.com/elastic/elasticsearch-labs/blob/main/supporting-blog-content/unifying-elastic-vector-database-and-llms-for-intelligent-query/Unifying_Elastic_Vector_Database_and_LLMs_for_Intelligent_Query.ipynb)"
      ]
    },
    {
      "cell_type": "code",
      "execution_count": null,
      "metadata": {
        "id": "wcPv-D6lwHsk"
      },
      "outputs": [],
      "source": [
        "import os\n",
        "import json\n",
        "from elasticsearch import Elasticsearch, helpers, TransportError, ConnectionError\n",
        "import requests\n",
        "import requests, json\n",
        "import time\n",
        "from dotenv import load_dotenv\n",
        "from tqdm.notebook import tqdm\n",
        "\n",
        "load_dotenv()\n",
        "\n",
        "# Elasticsearch Configurations\n",
        "# Supply your elasticsearch serverless cloud id and api key\n",
        "ELASTIC_URL = os.getenv('ELASTIC_URL')\n",
        "ELASTIC_API_KEY = os.getenv('ELASTIC_API_KEY')\n",
        "\n",
        "##Do not modify\n",
        "INDEX_NAME = \"properties\"\n",
        "TEMPLATE_ID=\"properties-search-template\"\n",
        "DATA_FILE= \"./properties.jsonl\"\n",
        "INFERENCE_ID=\"e5-endpoint\"\n",
        "MODEL_ID=\".multilingual-e5-small_linux-x86_64\"\n",
        "\n",
        "es = Elasticsearch(ELASTIC_URL, api_key=ELASTIC_API_KEY, request_timeout=300)\n",
        "es.info()\n"
      ]
    },
    {
      "cell_type": "markdown",
      "metadata": {
        "id": "X1PQ9s43CrAV"
      },
      "source": [
        "## Create ML inference endpoint\n",
        "We will create set a number of allocations that supports decent ingest throughput and query latency."
      ]
    },
    {
      "cell_type": "code",
      "execution_count": null,
      "metadata": {
        "colab": {
          "base_uri": "https://localhost:8080/"
        },
        "id": "5riqxfPe1ZwQ",
        "outputId": "64e1a154-450b-4ae5-c448-a549ba6b9763"
      },
      "outputs": [],
      "source": [
        "def create_text_embedding_endpoint():\n",
        "    \"\"\"\n",
        "    Creates a new text_embedding endpoint in Elasticsearch with explicit min/max allocations and chunk settings.\n",
        "    \"\"\"\n",
        "    url = f\"{ELASTIC_URL}/_inference/text_embedding/{INFERENCE_ID}\"\n",
        "    headers = {\n",
        "        \"Content-Type\": \"application/json\",\n",
        "        \"Authorization\": f\"ApiKey {ELASTIC_API_KEY}\"\n",
        "    }\n",
        "    payload = {\n",
        "        \"service\": \"elasticsearch\",\n",
        "        \"service_settings\": {\n",
        "            \"model_id\": MODEL_ID,     \n",
        "            \"num_threads\": 1,        \n",
        "            \"num_allocations\": 3 \n",
        "        }\n",
        "    }\n",
        "\n",
        "    # Make the POST request\n",
        "    response = requests.put(url, headers=headers, json=payload)\n",
        "\n",
        "    # Print the response\n",
        "    if response.status_code == 200:\n",
        "        print(\"Text embedding endpoint created successfully:\", response.json())\n",
        "    else:\n",
        "        print(f\"Error: {response.status_code}, {response.text}\")\n",
        "\n",
        "# Call the function to create the endpoint\n",
        "create_text_embedding_endpoint()"
      ]
    },
    {
      "cell_type": "markdown",
      "metadata": {
        "id": "SPRJ410XJH_y"
      },
      "source": [
        "## Create Elasticsearch index\n",
        "Creating an index for the property data."
      ]
    },
    {
      "cell_type": "code",
      "execution_count": null,
      "metadata": {
        "id": "vsvBDOfb5As6"
      },
      "outputs": [],
      "source": [
        "def create_index():\n",
        "    mapping = {\n",
        "      \"mappings\": {\n",
        "        \"dynamic\": \"false\",\n",
        "        \"properties\": {\n",
        "          \"annual-tax\": {\"type\": \"integer\"},\n",
        "          \"full_html\": {\"type\": \"text\", \"index\": False},\n",
        "          \"geo_point\": {\n",
        "            \"properties\": {\n",
        "              \"lat\": {\"type\": \"float\"},\n",
        "              \"lon\": {\"type\": \"float\"}\n",
        "            }\n",
        "          },\n",
        "          \"location\": {\"type\": \"geo_point\"},\n",
        "          \"headings\": {\"type\": \"text\"},\n",
        "          \"home-price\": {\"type\": \"integer\"},\n",
        "          \"id\": {\"type\": \"keyword\"},\n",
        "          \"latitude\": {\"type\": \"float\"},\n",
        "          \"listing-agent-info\": {\"type\": \"text\"},\n",
        "          \"longitude\": {\"type\": \"float\"},\n",
        "          \"maintenance-fee\": {\"type\": \"integer\"},\n",
        "          \"meta_keywords\": {\"type\": \"keyword\"},\n",
        "          \"number-of-bathrooms\": {\"type\": \"float\"},\n",
        "          \"number-of-bedrooms\": {\"type\": \"float\"},\n",
        "          \"property-description\": {\"type\": \"text\", \"copy_to\": [\"property-description_semantic\"]},\n",
        "          \"property-description_semantic\": {\n",
        "            \"type\": \"semantic_text\",\n",
        "            \"inference_id\": INFERENCE_ID\n",
        "          },\n",
        "          \"property-features\": {\"type\": \"text\", \n",
        "                                \"copy_to\": [\"property-features_semantic\"], \n",
        "                                \"fields\": {\"keyword\": {\"type\": \"keyword\"}}},\n",
        "          \"property-features_semantic\": {\n",
        "            \"type\": \"semantic_text\",\n",
        "            \"inference_id\": INFERENCE_ID\n",
        "          },\n",
        "          \"property-status\": {\"type\": \"keyword\"},\n",
        "          \"square-footage\": {\"type\": \"float\"},\n",
        "          \"title\": {\"type\": \"text\"}\n",
        "        }\n",
        "      }\n",
        "    }\n",
        "    \n",
        "    es.indices.create(index=INDEX_NAME, body=mapping)\n",
        "    print(f\"✅ Index '{INDEX_NAME}' created.\")\n",
        "\n",
        "create_index()\n"
      ]
    },
    {
      "cell_type": "markdown",
      "metadata": {
        "id": "U9XaRgU8zRDy"
      },
      "source": [
        "## Search Template\n",
        "\n",
        "Removes the existing properties-search-template if present and replaces it with an updated version. This ensures the template is always current and correctly structured for search operations."
      ]
    },
    {
      "cell_type": "code",
      "execution_count": null,
      "metadata": {
        "id": "CQ2S6XilPNB7"
      },
      "outputs": [],
      "source": [
        "search_template_content = {\n",
        "    \"script\": {\n",
        "        \"lang\": \"mustache\",\n",
        "        \"source\": \"\"\"{\n",
        "            \"_source\": false,\n",
        "            \"size\": 10,\n",
        "            \"fields\": [\n",
        "                \"title\",\n",
        "                \"annual-tax\",\n",
        "                \"maintenance-fee\",\n",
        "                \"number-of-bathrooms\",\n",
        "                \"number-of-bedrooms\",\n",
        "                \"square-footage\",\n",
        "                \"home-price\",\n",
        "                \"property-features\",\n",
        "                \"property-description\"\n",
        "            ],\n",
        "            \"retriever\": {\n",
        "                \"linear\": {\n",
        "                    \"filter\": {\n",
        "                        \"bool\": {\n",
        "                            \"must\": [\n",
        "                                {{#distance}}{\n",
        "                                    \"geo_distance\": {\n",
        "                                        \"distance\": \"{{distance}}\",\n",
        "                                        \"location\": {\n",
        "                                            \"lat\": {{latitude}},\n",
        "                                            \"lon\": {{longitude}}\n",
        "                                        }\n",
        "                                    }\n",
        "                                }{{/distance}}\n",
        "                                {{#bedrooms}}{{#distance}},{{/distance}}{\n",
        "                                    \"range\": {\n",
        "                                        \"number-of-bedrooms\": {\n",
        "                                            \"gte\": {{bedrooms}}\n",
        "                                        }\n",
        "                                    }\n",
        "                                }{{/bedrooms}}\n",
        "                                {{#bathrooms}}{{#distance}}{{^bedrooms}},{{/bedrooms}}{{/distance}}{{#bedrooms}},{{/bedrooms}}{\n",
        "                                    \"range\": {\n",
        "                                        \"number-of-bathrooms\": {\n",
        "                                            \"gte\": {{bathrooms}}\n",
        "                                        }\n",
        "                                    }\n",
        "                                }{{/bathrooms}}\n",
        "                                {{#tax}},{\n",
        "                                    \"range\": {\n",
        "                                        \"annual-tax\": {\n",
        "                                            \"lte\": {{tax}}\n",
        "                                        }\n",
        "                                    }\n",
        "                                }{{/tax}}\n",
        "                                {{#maintenance}},{\n",
        "                                    \"range\": {\n",
        "                                        \"maintenance-fee\": {\n",
        "                                            \"lte\": {{maintenance}}\n",
        "                                        }\n",
        "                                    }\n",
        "                                }{{/maintenance}}\n",
        "                                {{#square_footage}},{\n",
        "                                    \"range\": {\n",
        "                                        \"square-footage\": {\n",
        "                                            \"gte\": {{square_footage}}\n",
        "                                        }\n",
        "                                    }\n",
        "                                }{{/square_footage}}\n",
        "                                {{#home_price}},{\n",
        "                                    \"range\": {\n",
        "                                        \"home-price\": {\n",
        "                                            \"lte\": {{home_price}}\n",
        "                                        }\n",
        "                                    }\n",
        "                                }{{/home_price}}\n",
        "                            ]\n",
        "                        }\n",
        "                    },\n",
        "                    \"retrievers\": [\n",
        "                        {\n",
        "                            \"retriever\": {\n",
        "                                \"standard\": {\n",
        "                                    \"query\": {\n",
        "                                        \"semantic\": {\n",
        "                                            \"field\": \"property-description_semantic\",\n",
        "                                            \"query\": \"{{query}}\"\n",
        "                                        }\n",
        "                                    }\n",
        "                                }\n",
        "                            },\n",
        "                            \"weight\": 0.3,\n",
        "                            \"normalizer\": \"minmax\"\n",
        "                        },\n",
        "                        {\n",
        "                            \"retriever\": {\n",
        "                                \"standard\": {\n",
        "                                    \"query\": {\n",
        "                                        \"semantic\": {\n",
        "                                            \"field\": \"property-features_semantic\",\n",
        "                                            \"query\": \"{{query}}\"\n",
        "                                        }\n",
        "                                    }\n",
        "                                }\n",
        "                            },\n",
        "                            \"weight\": 0.3,\n",
        "                            \"normalizer\": \"minmax\"\n",
        "                        }\n",
        "                        {{#features}},\n",
        "                        {\n",
        "                            \"retriever\": {\n",
        "                                \"standard\": {\n",
        "                                    \"query\": {\n",
        "                                        \"multi_match\": {\n",
        "                                            \"query\": \"{{features}}\",\n",
        "                                            \"fields\": [\"property-features\", \"property-features.keyword\"]\n",
        "                                        }\n",
        "                                    }\n",
        "                                }\n",
        "                            },\n",
        "                            \"weight\": 0.7,\n",
        "                            \"normalizer\": \"minmax\"\n",
        "                        }\n",
        "                        {{/features}}\n",
        "                    ]\n",
        "                }\n",
        "            }\n",
        "        }\"\"\"\n",
        "    }\n",
        "}\n",
        "\n",
        "def create_search_template(\n",
        "    template_id=TEMPLATE_ID, template_content=search_template_content\n",
        "):\n",
        "    \"\"\"Creates a new search template\"\"\"\n",
        "    try:\n",
        "        es.put_script(id=template_id, body=template_content)\n",
        "        print(f\"Created search template: {template_id}\")\n",
        "    except Exception as e:\n",
        "        print(f\"Error creating template '{template_id}': {e}\")\n",
        "\n",
        "create_search_template()\n"
      ]
    },
    {
      "cell_type": "markdown",
      "metadata": {
        "id": "aroYqG9QJZkI"
      },
      "source": [
        "## Ingest property data"
      ]
    },
    {
      "cell_type": "code",
      "execution_count": null,
      "metadata": {},
      "outputs": [],
      "source": [
        "MAX_RETRIES = 5\n",
        "INITIAL_DELAY = 1  \n",
        "BACKOFF_FACTOR = 2\n",
        "BATCH_SIZE = 1000\n",
        "\n",
        "def bulk_with_retries(es_client, actions, max_retries=MAX_RETRIES):\n",
        "    attempt = 0\n",
        "    delay = INITIAL_DELAY\n",
        "    while attempt < max_retries:\n",
        "        try:\n",
        "            helpers.bulk(es_client, actions)\n",
        "            return\n",
        "        except (TransportError, ConnectionError) as e:\n",
        "            attempt += 1\n",
        "            if attempt >= max_retries:\n",
        "                raise e\n",
        "            print(f\"⚠️  Bulk insert failed on attempt {attempt}, retrying in {delay}s... ({type(e).__name__}: {e})\")\n",
        "            time.sleep(delay)\n",
        "            delay *= BACKOFF_FACTOR\n",
        "\n",
        "def load_data():\n",
        "    \"\"\"\n",
        "    Loads data from a JSONL file into an Elasticsearch index in batches.\n",
        "    \"\"\"\n",
        "    with open(DATA_FILE, 'r') as file:\n",
        "        total_lines = sum(1 for _ in file)\n",
        "        file.seek(0)\n",
        "\n",
        "        overall_progress = tqdm(total=total_lines, desc=f\"Overall Progress - {INDEX_NAME}\", unit=\"records\", leave=True)\n",
        "        batch = []\n",
        "\n",
        "        for line in file:\n",
        "            record = json.loads(line.strip())\n",
        "            batch.append({\n",
        "                \"_index\": INDEX_NAME,\n",
        "                \"_source\": record\n",
        "            })\n",
        "            overall_progress.update(1)\n",
        "\n",
        "            if len(batch) == BATCH_SIZE:\n",
        "                bulk_with_retries(es, batch)\n",
        "                batch = []\n",
        "\n",
        "        if batch:\n",
        "            bulk_with_retries(es, batch)\n",
        "\n",
        "        overall_progress.close()\n",
        "\n",
        "load_data()"
      ]
    },
    {
      "cell_type": "markdown",
      "metadata": {},
      "source": [
        "## Teardown\n",
        "Deletes all data in indexes and the ML inference endpoint"
      ]
    },
    {
      "cell_type": "code",
      "execution_count": null,
      "metadata": {},
      "outputs": [],
      "source": [
        "confirmation = input(f\"Are you sure you want to delete the index and ml inference endpoint? This cannot be undone\")\n",
        "if confirmation.lower() != 'yes':\n",
        "    print(\"Operation canceled.\")\n",
        "else:\n",
        "    try:\n",
        "        es.delete_script(id=TEMPLATE_ID)\n",
        "        print(f\"Deleted existing search template: {TEMPLATE_ID}\")\n",
        "    except Exception as e:\n",
        "        if \"not_found\" in str(e):\n",
        "            print(f\"Search template '{TEMPLATE_ID}' not found, skipping delete.\")\n",
        "        else:\n",
        "            print(f\"Error deleting template '{TEMPLATE_ID}': {e}\")\n",
        "    if es.indices.exists(index=INDEX_NAME):\n",
        "        es.indices.delete(index=INDEX_NAME)\n",
        "        print(f\"🗑️ Index '{INDEX_NAME}' deleted.\")\n",
        "\n",
        "    url = f\"{ELASTIC_URL}/_inference/text_embedding/{INFERENCE_ID}\"\n",
        "    headers = {\n",
        "        \"Content-Type\": \"application/json\",\n",
        "        \"Authorization\": f\"ApiKey {ELASTIC_API_KEY}\"\n",
        "    }\n",
        "\n",
        "    # Make the DELETE request\n",
        "    response = requests.delete(url, headers=headers)\n",
        "\n",
        "    # Print the response\n",
        "    if response.status_code == 200:\n",
        "        print(\"Text embedding endpoint deleted successfully:\", response.json())\n",
        "    else:\n",
        "        print(f\"Error: {response.status_code}, {response.text}\")"
      ]
    }
  ],
  "metadata": {
    "colab": {
      "provenance": []
    },
    "kernelspec": {
      "display_name": ".venv",
      "language": "python",
      "name": "python3"
    },
    "language_info": {
      "codemirror_mode": {
        "name": "ipython",
        "version": 3
      },
      "file_extension": ".py",
      "mimetype": "text/x-python",
      "name": "python",
      "nbconvert_exporter": "python",
      "pygments_lexer": "ipython3",
      "version": "3.12.1"
    }
  },
  "nbformat": 4,
  "nbformat_minor": 0
}
